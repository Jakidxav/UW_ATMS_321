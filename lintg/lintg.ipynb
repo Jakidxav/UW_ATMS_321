{
 "cells": [
  {
   "cell_type": "markdown",
   "metadata": {},
   "source": [
    "Authors: Joshua Driscol, Dennis Hartmann <br/>\n",
    "Date: 04.03.2019 <br/>\n",
    "Description: Program to compute linear trends of GISSTemp Global Temperature Record. <br/>"
   ]
  },
  {
   "cell_type": "markdown",
   "metadata": {},
   "source": [
    "*** Homework instructions: ***\n",
    "Compute trends and uncertainties to see how sensitive trends are to starting and ending dates.\n",
    "\n",
    "If you are curious, the data for this assignment was retrieved from [here](https://data.giss.nasa.gov/gistemp/)."
   ]
  },
  {
   "cell_type": "markdown",
   "metadata": {},
   "source": [
    "### Data Cleaning"
   ]
  },
  {
   "cell_type": "code",
   "execution_count": 1,
   "metadata": {},
   "outputs": [],
   "source": [
    "#data imports\n",
    "import numpy as np\n",
    "import pandas as pd\n",
    "import scipy.stats as stats\n",
    "\n",
    "import matplotlib.pyplot as plt\n",
    "%matplotlib inline\n",
    "\n",
    "from process_gssi_global_temp import *"
   ]
  },
  {
   "cell_type": "code",
   "execution_count": 2,
   "metadata": {},
   "outputs": [],
   "source": [
    "#provide file path, in this case just the name of the file\n",
    "#filename = 'GISSTEMP_SEASONS_2019.txt'\n",
    "filename = 'GLB.Ts.csv'\n",
    "\n",
    "# name colors here\n",
    "deeppink= '#FF1493'\n",
    "\n",
    "#set significance level for analysis\n",
    "sig_level = 0.975\n",
    "sig_level_string = '95%'"
   ]
  },
  {
   "cell_type": "code",
   "execution_count": 3,
   "metadata": {},
   "outputs": [
    {
     "name": "stderr",
     "output_type": "stream",
     "text": [
      "/home/jakidxav/anaconda3/lib/python3.7/site-packages/pandas/core/ops.py:1649: FutureWarning: elementwise comparison failed; returning scalar instead, but in the future will perform elementwise comparison\n",
      "  result = method(y)\n"
     ]
    }
   ],
   "source": [
    "#read in data to dataframe, skip header row\n",
    "df = pd.read_csv(filename, header=1)\n",
    "\n",
    "#clean data\n",
    "df = clean(df)"
   ]
  },
  {
   "cell_type": "markdown",
   "metadata": {},
   "source": [
    "Now our data is processed and cleaned, we can begin our analysis here. But first, let's take a look at our dataset. We have a column that holds the years 1800-2018 inclusive. We also have columns for every month of the year, which hold a temperature in degrees Celsius during the year. </br>\n",
    "\n",
    "Additionally, we have two different annual average columns (although for the purposes of this Notebook I recommend using 'J-D'), and seasonal average columns."
   ]
  },
  {
   "cell_type": "code",
   "execution_count": 4,
   "metadata": {},
   "outputs": [
    {
     "data": {
      "text/html": [
       "<div>\n",
       "<style scoped>\n",
       "    .dataframe tbody tr th:only-of-type {\n",
       "        vertical-align: middle;\n",
       "    }\n",
       "\n",
       "    .dataframe tbody tr th {\n",
       "        vertical-align: top;\n",
       "    }\n",
       "\n",
       "    .dataframe thead th {\n",
       "        text-align: right;\n",
       "    }\n",
       "</style>\n",
       "<table border=\"1\" class=\"dataframe\">\n",
       "  <thead>\n",
       "    <tr style=\"text-align: right;\">\n",
       "      <th></th>\n",
       "      <th>Year</th>\n",
       "      <th>Jan</th>\n",
       "      <th>Feb</th>\n",
       "      <th>Mar</th>\n",
       "      <th>Apr</th>\n",
       "      <th>May</th>\n",
       "      <th>Jun</th>\n",
       "      <th>Jul</th>\n",
       "      <th>Aug</th>\n",
       "      <th>Sep</th>\n",
       "      <th>Oct</th>\n",
       "      <th>Nov</th>\n",
       "      <th>Dec</th>\n",
       "      <th>J-D</th>\n",
       "      <th>D-N</th>\n",
       "      <th>DJF</th>\n",
       "      <th>MAM</th>\n",
       "      <th>JJA</th>\n",
       "      <th>SON</th>\n",
       "    </tr>\n",
       "  </thead>\n",
       "  <tbody>\n",
       "    <tr>\n",
       "      <th>0</th>\n",
       "      <td>1880</td>\n",
       "      <td>-0.81</td>\n",
       "      <td>-0.40</td>\n",
       "      <td>-0.47</td>\n",
       "      <td>-0.66</td>\n",
       "      <td>-0.36</td>\n",
       "      <td>-0.48</td>\n",
       "      <td>-0.47</td>\n",
       "      <td>0.08</td>\n",
       "      <td>-0.49</td>\n",
       "      <td>-0.66</td>\n",
       "      <td>-0.50</td>\n",
       "      <td>-0.52</td>\n",
       "      <td>-0.48</td>\n",
       "      <td>NaN</td>\n",
       "      <td>NaN</td>\n",
       "      <td>-0.49</td>\n",
       "      <td>-0.29</td>\n",
       "      <td>-0.55</td>\n",
       "    </tr>\n",
       "    <tr>\n",
       "      <th>1</th>\n",
       "      <td>1881</td>\n",
       "      <td>-0.79</td>\n",
       "      <td>-0.61</td>\n",
       "      <td>-0.36</td>\n",
       "      <td>-0.25</td>\n",
       "      <td>-0.02</td>\n",
       "      <td>-1.10</td>\n",
       "      <td>-0.52</td>\n",
       "      <td>-0.23</td>\n",
       "      <td>-0.32</td>\n",
       "      <td>-0.46</td>\n",
       "      <td>-0.55</td>\n",
       "      <td>-0.13</td>\n",
       "      <td>-0.45</td>\n",
       "      <td>-0.48</td>\n",
       "      <td>-0.64</td>\n",
       "      <td>-0.21</td>\n",
       "      <td>-0.62</td>\n",
       "      <td>-0.44</td>\n",
       "    </tr>\n",
       "    <tr>\n",
       "      <th>2</th>\n",
       "      <td>1882</td>\n",
       "      <td>0.13</td>\n",
       "      <td>-0.10</td>\n",
       "      <td>-0.07</td>\n",
       "      <td>-0.57</td>\n",
       "      <td>-0.36</td>\n",
       "      <td>-1.01</td>\n",
       "      <td>-0.70</td>\n",
       "      <td>-0.10</td>\n",
       "      <td>-0.06</td>\n",
       "      <td>-0.29</td>\n",
       "      <td>-0.38</td>\n",
       "      <td>-0.66</td>\n",
       "      <td>-0.35</td>\n",
       "      <td>-0.30</td>\n",
       "      <td>-0.04</td>\n",
       "      <td>-0.33</td>\n",
       "      <td>-0.60</td>\n",
       "      <td>-0.24</td>\n",
       "    </tr>\n",
       "    <tr>\n",
       "      <th>3</th>\n",
       "      <td>1883</td>\n",
       "      <td>-0.66</td>\n",
       "      <td>-0.93</td>\n",
       "      <td>-0.44</td>\n",
       "      <td>-0.29</td>\n",
       "      <td>-0.33</td>\n",
       "      <td>0.46</td>\n",
       "      <td>-0.01</td>\n",
       "      <td>-0.15</td>\n",
       "      <td>-0.44</td>\n",
       "      <td>-0.55</td>\n",
       "      <td>-0.68</td>\n",
       "      <td>-0.39</td>\n",
       "      <td>-0.37</td>\n",
       "      <td>-0.39</td>\n",
       "      <td>-0.75</td>\n",
       "      <td>-0.35</td>\n",
       "      <td>0.10</td>\n",
       "      <td>-0.56</td>\n",
       "    </tr>\n",
       "    <tr>\n",
       "      <th>4</th>\n",
       "      <td>1884</td>\n",
       "      <td>-0.62</td>\n",
       "      <td>-0.35</td>\n",
       "      <td>-0.40</td>\n",
       "      <td>-0.94</td>\n",
       "      <td>-1.20</td>\n",
       "      <td>-0.83</td>\n",
       "      <td>-0.86</td>\n",
       "      <td>0.14</td>\n",
       "      <td>-0.38</td>\n",
       "      <td>-0.78</td>\n",
       "      <td>-0.83</td>\n",
       "      <td>-1.01</td>\n",
       "      <td>-0.67</td>\n",
       "      <td>-0.62</td>\n",
       "      <td>-0.45</td>\n",
       "      <td>-0.85</td>\n",
       "      <td>-0.52</td>\n",
       "      <td>-0.66</td>\n",
       "    </tr>\n",
       "  </tbody>\n",
       "</table>\n",
       "</div>"
      ],
      "text/plain": [
       "   Year   Jan   Feb   Mar   Apr   May   Jun   Jul   Aug   Sep   Oct   Nov  \\\n",
       "0  1880 -0.81 -0.40 -0.47 -0.66 -0.36 -0.48 -0.47  0.08 -0.49 -0.66 -0.50   \n",
       "1  1881 -0.79 -0.61 -0.36 -0.25 -0.02 -1.10 -0.52 -0.23 -0.32 -0.46 -0.55   \n",
       "2  1882  0.13 -0.10 -0.07 -0.57 -0.36 -1.01 -0.70 -0.10 -0.06 -0.29 -0.38   \n",
       "3  1883 -0.66 -0.93 -0.44 -0.29 -0.33  0.46 -0.01 -0.15 -0.44 -0.55 -0.68   \n",
       "4  1884 -0.62 -0.35 -0.40 -0.94 -1.20 -0.83 -0.86  0.14 -0.38 -0.78 -0.83   \n",
       "\n",
       "    Dec   J-D   D-N   DJF   MAM   JJA   SON  \n",
       "0 -0.52 -0.48   NaN   NaN -0.49 -0.29 -0.55  \n",
       "1 -0.13 -0.45 -0.48 -0.64 -0.21 -0.62 -0.44  \n",
       "2 -0.66 -0.35 -0.30 -0.04 -0.33 -0.60 -0.24  \n",
       "3 -0.39 -0.37 -0.39 -0.75 -0.35  0.10 -0.56  \n",
       "4 -1.01 -0.67 -0.62 -0.45 -0.85 -0.52 -0.66  "
      ]
     },
     "execution_count": 4,
     "metadata": {},
     "output_type": "execute_result"
    }
   ],
   "source": [
    "df.head()"
   ]
  },
  {
   "cell_type": "markdown",
   "metadata": {},
   "source": [
    "### Data Analysis and Plotting"
   ]
  },
  {
   "cell_type": "markdown",
   "metadata": {},
   "source": [
    "We are going to calculate the trend for different starting and ending times of this data. This is a linear regression of the form $y = mx + b$. </br>\n",
    "\n",
    "Below is an example of what you will asked to do. You can see that by using different starting or ending dates, the slope of the trend changes. Not only that, but the sensitivity of our trend line changes. The sensitivity corresponds to confidence limits that we can place on the slope and intercept of our regression fit. In our case, we have done this by running a t-test at the 95\\% confidence level.</br>\n",
    "\n",
    "DOF stands for \"degrees of freedom\". We need to calculate this for our trend line because not every data point (year) in our sample is independent. If we did not do this calculation, we would be overestimating the amount of years we should use in our significance test. If $N$ is the number of years we have in a given sample, we can estimate the degrees of freedom as $N * \\frac{1 - autocorrelation}{1 + autocorrelation}$.\n",
    "\n",
    "<img src='example_trends.png'>"
   ]
  },
  {
   "cell_type": "markdown",
   "metadata": {},
   "source": [
    "### Now it is your turn! Change the start and end years below and re-run the plotting method to see how the trend line changes. You should also feel free to change the column in question"
   ]
  },
  {
   "cell_type": "code",
   "execution_count": 5,
   "metadata": {},
   "outputs": [
    {
     "data": {
      "image/png": "[encoded data removed]",
      "text/plain": [
       "<Figure size 864x576 with 1 Axes>"
      ]
     },
     "metadata": {
      "needs_background": "light"
     },
     "output_type": "display_data"
    }
   ],
   "source": [
    "#TO-DO: change starting and ending years, as well as \n",
    "#       the column name here to be plotted here\n",
    "start_year = 1950\n",
    "end_year = 2018\n",
    "column_name = 'J-D'\n",
    "\n",
    "plot(start_year, end_year, df, column_name, deeppink, sig_level_string)"
   ]
  },
  {
   "cell_type": "code",
   "execution_count": null,
   "metadata": {},
   "outputs": [],
   "source": []
  }
 ],
 "metadata": {
  "kernelspec": {
   "display_name": "Python 3",
   "language": "python",
   "name": "python3"
  },
  "language_info": {
   "codemirror_mode": {
    "name": "ipython",
    "version": 3
   },
   "file_extension": ".py",
   "mimetype": "text/x-python",
   "name": "python",
   "nbconvert_exporter": "python",
   "pygments_lexer": "ipython3",
   "version": "3.7.0"
  }
 },
 "nbformat": 4,
 "nbformat_minor": 2
}
